{
 "metadata": {
  "language_info": {
   "codemirror_mode": {
    "name": "ipython",
    "version": 3
   },
   "file_extension": ".py",
   "mimetype": "text/x-python",
   "name": "python",
   "nbconvert_exporter": "python",
   "pygments_lexer": "ipython3",
   "version": "3.8.0"
  },
  "orig_nbformat": 2,
  "kernelspec": {
   "name": "python380jvsc74a57bd077665185498974e2aa551b3ed7ff3d92ad30b59c524e7ca2905901a81cbab4ea",
   "display_name": "Python 3.8.0 64-bit ('dataAna': conda)"
  }
 },
 "nbformat": 4,
 "nbformat_minor": 2,
 "cells": [
  {
   "cell_type": "code",
   "execution_count": 1,
   "metadata": {},
   "outputs": [],
   "source": [
    "import json\n",
    "import re\n",
    "import os\n",
    "import glob\n",
    "import cv2"
   ]
  },
  {
   "cell_type": "code",
   "execution_count": 4,
   "metadata": {},
   "outputs": [
    {
     "output_type": "stream",
     "name": "stdout",
     "text": [
      "1\n"
     ]
    }
   ],
   "source": [
    "# txt文件路径\n",
    "txt_dir = \"/data/file/yolo5/tmp/\"\n",
    "txts = os.listdir(txt_dir)\n"
   ]
  },
  {
   "cell_type": "code",
   "execution_count": 33,
   "metadata": {},
   "outputs": [
    {
     "output_type": "stream",
     "name": "stdout",
     "text": [
      "1.txt\n1\n/data/file/yolo5/tmp/1\n"
     ]
    }
   ],
   "source": [
    "for file in txts:\n",
    "    print(file)\n",
    "    file_name = os.path.splitext(file)[0]\n",
    "    print(file_name)\n",
    "    file = txt_dir + file\n",
    "    txt_name, _ = os.path.splitext(file)\n",
    "    print(txt_name)\n",
    "    img_name = txt_name + '.jpg'\n",
    "    with open(file, 'r', encoding=\"utf-8\") as txt_file:\n",
    "        shape = []\n",
    "        for line in txt_file:\n",
    "            line = line.strip().split()\n",
    "            # print(line)"
   ]
  },
  {
   "cell_type": "code",
   "execution_count": 7,
   "metadata": {},
   "outputs": [
    {
     "output_type": "stream",
     "name": "stdout",
     "text": [
      "['0', '0.614844', '0.461111', '0.0526042', '0.124074']\n['0', '0.752604', '0.605556', '0.03125', '0.109259']\n['0', '0.634635', '0.448148', '0.0265625', '0.122222']\n['0', '0.40599', '0.931944', '0.0338542', '0.062037']\n['0', '0.76875', '0.578704', '0.0260417', '0.087037']\n['0', '0.532812', '0.881481', '0.0427083', '0.0722222']\n['0', '0.492448', '0.0231481', '0.0307292', '0.0462963']\n['0', '0.382292', '0.962037', '0.0635417', '0.0685185']\n['0', '0.784896', '0.468981', '0.0260417', '0.0583333']\n['0', '0.572396', '0.857407', '0.028125', '0.0666667']\n['0', '0.709115', '0.22037', '0.0265625', '0.0722222']\n['0', '0.338542', '0.408796', '0.0333333', '0.0435185']\n['0', '0.745052', '0.28287', '0.0296875', '0.128704']\n['0', '0.591406', '0.550926', '0.0359375', '0.112963']\n['0', '0.486979', '0.665741', '0.034375', '0.0537037']\n['0', '0.721094', '0.54213', '0.0359375', '0.0638889']\n['0', '0.543229', '0.754167', '0.0447917', '0.106481']\n['0', '0.773177', '0.352778', '0.0369792', '0.101852']\n['0', '0.226042', '0.766667', '0.0572917', '0.0907407']\n"
     ]
    }
   ],
   "source": [
    "for file in txts:\n",
    "    file = txt_dir + file\n",
    "    txt_name, _ = os.path.splitext(file)\n",
    "    img_name = txt_name + '.jpg'\n",
    "    with open(file, 'r', encoding=\"utf-8\") as txt_file:\n",
    "        shape = []\n",
    "        for line in txt_file:\n",
    "            line = line.strip().split()\n",
    "            print(line)"
   ]
  },
  {
   "cell_type": "code",
   "execution_count": 16,
   "metadata": {},
   "outputs": [
    {
     "output_type": "stream",
     "name": "stdout",
     "text": [
      "564.9998400000001\n713.0003399999999\n549.99972\n1039.9995\n672.0003\n990.999468\n49.99995\n1075.9999500000001\n537.999462\n961.999578\n276.999588\n464.99967000000004\n374.99976\n656.0001\n748.000278\n620.000406\n872.0001\n436.00032\n877.000338\n"
     ]
    }
   ],
   "source": [
    "for file in txts:\n",
    "    file = txt_dir + file\n",
    "    txt_name, _ = os.path.splitext(file)\n",
    "    img_name = txt_name + '.jpg'\n",
    "    with open(file, 'r', encoding=\"utf-8\") as txt_file:\n",
    "        shape = []\n",
    "        for line in txt_file:\n",
    "            line = [float(x) for x in line.strip().split()]\n",
    "            # yolo format\n",
    "            x_center_pixel = line[1] * 1920\n",
    "            y_center_pixel = line[2] * 1080\n",
    "            width = line[3] * 1920\n",
    "            high = line[4] * 1080\n",
    "            # labelme format\n",
    "            row_low = y_center_pixel - high / 2 \n",
    "            row_high = y_center_pixel + high / 2\n",
    "            clomn_low = x_center_pixel - width / 2\n",
    "            clomn_high = x_center_pixel + width / 2\n",
    "            print(row_high)\n"
   ]
  },
  {
   "cell_type": "code",
   "execution_count": 23,
   "metadata": {
    "tags": []
   },
   "outputs": [
    {
     "output_type": "stream",
     "name": "stdout",
     "text": [
      "1130.000448\n1414.9996800000001\n1192.9992\n747.000768\n1450.999968\n981.999072\n916.000128\n673.000608\n1482.0002880000002\n1072.00032\n1336.0008\n618.000672\n1401.9998400000002\n1100.99952\n901.99968\n1350.00048\n999.9996479999999\n1448.999808\n379.00060799999994\n"
     ]
    }
   ],
   "source": [
    "for file in txts:\n",
    "    file = txt_dir + file\n",
    "    txt_name, _ = os.path.splitext(file)\n",
    "    img_name = txt_name + '.jpg'\n",
    "    with open(file, 'r', encoding=\"utf-8\") as txt_file:\n",
    "        shape = []\n",
    "        for line in txt_file:\n",
    "            line = [float(x) for x in line.strip().split()]\n",
    "            label = line[0]  # label\n",
    "            points = []  # row clomn \n",
    "            # yolo format\n",
    "            x_center_pixel = line[1] * 1920\n",
    "            y_center_pixel = line[2] * 1080\n",
    "            width = line[3] * 1920\n",
    "            high = line[4] * 1080\n",
    "            # labelme format\n",
    "            row_low = y_center_pixel - high / 2 \n",
    "            row_high = y_center_pixel + high / 2\n",
    "            clomn_low = x_center_pixel - width / 2\n",
    "            clomn_high = x_center_pixel + width / 2\n",
    "            # print(row_higt)\n",
    "            # print(row_low)\n",
    "            # print(clomn_high)\n",
    "            # print(clomn_low)\n",
    "            \n",
    "            # row clomn json format\n",
    "            points.append([row_low, clomn_low])\n",
    "            points.append([row_high, clomn_high])\n",
    "            # shape json\n",
    "            shape.append({\"label\": label, \"points\": points, \"group_id\": None, \"shape_type\": \"rectangle\", \"flags\": {}})\n",
    "            # print(shape)"
   ]
  },
  {
   "cell_type": "code",
   "execution_count": 27,
   "metadata": {
    "tags": []
   },
   "outputs": [
    {
     "output_type": "stream",
     "name": "stdout",
     "text": [
      "{'version': '4.5.6', 'flags': {}, 'shapes': [{'label': 0.0, 'points': [[430.99992000000003, 1130.000448], [564.9998400000001, 1231.0005119999998]], 'group_id': None, 'shape_type': 'rectangle', 'flags': {}}, {'label': 0.0, 'points': [[595.0006199999999, 1414.9996800000001], [713.0003399999999, 1474.9996800000001]], 'group_id': None, 'shape_type': 'rectangle', 'flags': {}}, {'label': 0.0, 'points': [[417.99996, 1192.9992], [549.99972, 1243.9992]], 'group_id': None, 'shape_type': 'rectangle', 'flags': {}}, {'label': 0.0, 'points': [[972.9995399999999, 747.000768], [1039.9995, 812.0008320000001]], 'group_id': None, 'shape_type': 'rectangle', 'flags': {}}, {'label': 0.0, 'points': [[578.0003399999999, 1450.999968], [672.0003, 1501.000032]], 'group_id': None, 'shape_type': 'rectangle', 'flags': {}}, {'label': 0.0, 'points': [[912.9994919999999, 981.999072], [990.999468, 1063.999008]], 'group_id': None, 'shape_type': 'rectangle', 'flags': {}}, {'label': 0.0, 'points': [[-5.3999999998666226e-05, 916.000128], [49.99995, 975.0001920000001]], 'group_id': None, 'shape_type': 'rectangle', 'flags': {}}, {'label': 0.0, 'points': [[1001.9999700000001, 673.000608], [1075.9999500000001, 795.0006720000001]], 'group_id': None, 'shape_type': 'rectangle', 'flags': {}}, {'label': 0.0, 'points': [[474.999498, 1482.0002880000002], [537.999462, 1532.000352]], 'group_id': None, 'shape_type': 'rectangle', 'flags': {}}, {'label': 0.0, 'points': [[889.9995420000001, 1072.00032], [961.999578, 1126.00032]], 'group_id': None, 'shape_type': 'rectangle', 'flags': {}}, {'label': 0.0, 'points': [[198.999612, 1336.0008], [276.999588, 1387.0008]], 'group_id': None, 'shape_type': 'rectangle', 'flags': {}}, {'label': 0.0, 'points': [[417.99969, 618.000672], [464.99967000000004, 682.0006079999999]], 'group_id': None, 'shape_type': 'rectangle', 'flags': {}}, {'label': 0.0, 'points': [[235.99944, 1401.9998400000002], [374.99976, 1458.9998400000002]], 'group_id': None, 'shape_type': 'rectangle', 'flags': {}}, {'label': 0.0, 'points': [[534.0000600000001, 1100.99952], [656.0001, 1169.99952]], 'group_id': None, 'shape_type': 'rectangle', 'flags': {}}, {'label': 0.0, 'points': [[690.000282, 901.99968], [748.000278, 967.99968]], 'group_id': None, 'shape_type': 'rectangle', 'flags': {}}, {'label': 0.0, 'points': [[551.000394, 1350.00048], [620.000406, 1419.00048]], 'group_id': None, 'shape_type': 'rectangle', 'flags': {}}, {'label': 0.0, 'points': [[757.00062, 999.9996479999999], [872.0001, 1085.9997119999998]], 'group_id': None, 'shape_type': 'rectangle', 'flags': {}}, {'label': 0.0, 'points': [[326.00015999999994, 1448.999808], [436.00032, 1519.9998719999999]], 'group_id': None, 'shape_type': 'rectangle', 'flags': {}}, {'label': 0.0, 'points': [[779.000382, 379.00060799999994], [877.000338, 489.000672]], 'group_id': None, 'shape_type': 'rectangle', 'flags': {}}], 'imagePath': '/data/file/yolo5/tmp/1.jpg', 'imageData': None, 'imageHeight': 1080, 'imageWidth': 1920, 'lineColor': [0, 255, 0, 128], 'fillColor': [255, 0, 0, 128]}\n"
     ]
    }
   ],
   "source": [
    "for file in txts:\n",
    "    file = txt_dir + file\n",
    "    txt_name, _ = os.path.splitext(file)\n",
    "    img_name = txt_name + '.jpg'\n",
    "    with open(file, 'r', encoding=\"utf-8\") as txt_file:\n",
    "        shape = []\n",
    "        for line in txt_file:\n",
    "            line = [float(x) for x in line.strip().split()]\n",
    "            label = line[0]  # label\n",
    "            points = []  # row clomn \n",
    "            # yolo format\n",
    "            x_center_pixel = line[1] * 1920\n",
    "            y_center_pixel = line[2] * 1080\n",
    "            width = line[3] * 1920\n",
    "            high = line[4] * 1080\n",
    "            # labelme format\n",
    "            row_low = y_center_pixel - high / 2 \n",
    "            row_high = y_center_pixel + high / 2\n",
    "            clomn_low = x_center_pixel - width / 2\n",
    "            clomn_high = x_center_pixel + width / 2\n",
    "            # row clomn json format\n",
    "            points.append([row_low, clomn_low])\n",
    "            points.append([row_high, clomn_high])\n",
    "            # shape json\n",
    "            shape.append({\"label\": label, \"points\": points, \"group_id\": None, \"shape_type\": \"rectangle\", \"flags\": {}})\n",
    "            # print(shape)\n",
    "        result = {\"version\": \"4.5.6\", \"flags\": {}, \"shapes\": shape, \"imagePath\": img_name, \"imageData\": None, \"imageHeight\": 1080, \"imageWidth\": 1920, \"lineColor\": [0, 255, 0, 128], \"fillColor\": [255, 0, 0, 128]}\n",
    "        print(result)"
   ]
  },
  {
   "cell_type": "code",
   "execution_count": 34,
   "metadata": {},
   "outputs": [
    {
     "output_type": "stream",
     "name": "stdout",
     "text": [
      "{'version': '4.5.6', 'flags': {}, 'shapes': [{'label': 0.0, 'points': [[430.99992000000003, 1130.000448], [564.9998400000001, 1231.0005119999998]], 'group_id': None, 'shape_type': 'rectangle', 'flags': {}}, {'label': 0.0, 'points': [[595.0006199999999, 1414.9996800000001], [713.0003399999999, 1474.9996800000001]], 'group_id': None, 'shape_type': 'rectangle', 'flags': {}}, {'label': 0.0, 'points': [[417.99996, 1192.9992], [549.99972, 1243.9992]], 'group_id': None, 'shape_type': 'rectangle', 'flags': {}}, {'label': 0.0, 'points': [[972.9995399999999, 747.000768], [1039.9995, 812.0008320000001]], 'group_id': None, 'shape_type': 'rectangle', 'flags': {}}, {'label': 0.0, 'points': [[578.0003399999999, 1450.999968], [672.0003, 1501.000032]], 'group_id': None, 'shape_type': 'rectangle', 'flags': {}}, {'label': 0.0, 'points': [[912.9994919999999, 981.999072], [990.999468, 1063.999008]], 'group_id': None, 'shape_type': 'rectangle', 'flags': {}}, {'label': 0.0, 'points': [[-5.3999999998666226e-05, 916.000128], [49.99995, 975.0001920000001]], 'group_id': None, 'shape_type': 'rectangle', 'flags': {}}, {'label': 0.0, 'points': [[1001.9999700000001, 673.000608], [1075.9999500000001, 795.0006720000001]], 'group_id': None, 'shape_type': 'rectangle', 'flags': {}}, {'label': 0.0, 'points': [[474.999498, 1482.0002880000002], [537.999462, 1532.000352]], 'group_id': None, 'shape_type': 'rectangle', 'flags': {}}, {'label': 0.0, 'points': [[889.9995420000001, 1072.00032], [961.999578, 1126.00032]], 'group_id': None, 'shape_type': 'rectangle', 'flags': {}}, {'label': 0.0, 'points': [[198.999612, 1336.0008], [276.999588, 1387.0008]], 'group_id': None, 'shape_type': 'rectangle', 'flags': {}}, {'label': 0.0, 'points': [[417.99969, 618.000672], [464.99967000000004, 682.0006079999999]], 'group_id': None, 'shape_type': 'rectangle', 'flags': {}}, {'label': 0.0, 'points': [[235.99944, 1401.9998400000002], [374.99976, 1458.9998400000002]], 'group_id': None, 'shape_type': 'rectangle', 'flags': {}}, {'label': 0.0, 'points': [[534.0000600000001, 1100.99952], [656.0001, 1169.99952]], 'group_id': None, 'shape_type': 'rectangle', 'flags': {}}, {'label': 0.0, 'points': [[690.000282, 901.99968], [748.000278, 967.99968]], 'group_id': None, 'shape_type': 'rectangle', 'flags': {}}, {'label': 0.0, 'points': [[551.000394, 1350.00048], [620.000406, 1419.00048]], 'group_id': None, 'shape_type': 'rectangle', 'flags': {}}, {'label': 0.0, 'points': [[757.00062, 999.9996479999999], [872.0001, 1085.9997119999998]], 'group_id': None, 'shape_type': 'rectangle', 'flags': {}}, {'label': 0.0, 'points': [[326.00015999999994, 1448.999808], [436.00032, 1519.9998719999999]], 'group_id': None, 'shape_type': 'rectangle', 'flags': {}}, {'label': 0.0, 'points': [[779.000382, 379.00060799999994], [877.000338, 489.000672]], 'group_id': None, 'shape_type': 'rectangle', 'flags': {}}], 'imagePath': '/data/file/yolo5/tmp/1.jpg', 'imageData': None, 'imageHeight': 1080, 'imageWidth': 1920, 'lineColor': [0, 255, 0, 128], 'fillColor': [255, 0, 0, 128]}\n"
     ]
    }
   ],
   "source": [
    "for file in txts:\n",
    "    file_name = os.path.splitext(file)[0]\n",
    "    file = txt_dir + file\n",
    "    txt_name, _ = os.path.splitext(file)\n",
    "    img_name = txt_name + '.jpg'\n",
    "\n",
    "    with open(file, 'r', encoding=\"utf-8\") as txt_file:\n",
    "        shape = []\n",
    "        for line in txt_file:\n",
    "            line = [float(x) for x in line.strip().split()]\n",
    "            label = str(line[0])  # label\n",
    "            points = []  # row clomn \n",
    "            # yolo format\n",
    "            x_center_pixel = line[1] * 1920\n",
    "            y_center_pixel = line[2] * 1080\n",
    "            width = line[3] * 1920\n",
    "            high = line[4] * 1080\n",
    "            # labelme format\n",
    "            row_low = y_center_pixel - high / 2 \n",
    "            row_high = y_center_pixel + high / 2\n",
    "            clomn_low = x_center_pixel - width / 2\n",
    "            clomn_high = x_center_pixel + width / 2\n",
    "            # row clomn json format\n",
    "            points.append([row_low, clomn_low])\n",
    "            points.append([row_high, clomn_high])\n",
    "            # shape json\n",
    "            shape.append({\"label\": label, \"points\": points, \"group_id\": None, \"shape_type\": \"rectangle\", \"flags\": {}})\n",
    "            # print(shape)\n",
    "        result = {\"version\": \"4.5.6\", \"flags\": {}, \"shapes\": shape, \"imagePath\": img_name, \"imageData\": None, \"imageHeight\": 1080, \"imageWidth\": 1920, \"lineColor\": [0, 255, 0, 128], \"fillColor\": [255, 0, 0, 128]}\n",
    "        print(result)\n",
    "        json_path = \"/data/file/yolo5/json/\" + file_name + \".json\"\n",
    "        with open(json_path, 'w') as json_file:\n",
    "            json.dump(result, json_file, indent=4)"
   ]
  },
  {
   "cell_type": "code",
   "execution_count": null,
   "metadata": {},
   "outputs": [],
   "source": []
  }
 ]
}